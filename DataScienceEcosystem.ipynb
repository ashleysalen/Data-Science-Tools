{
  "metadata": {
    "kernelspec": {
      "name": "python",
      "display_name": "Python (Pyodide)",
      "language": "python"
    },
    "language_info": {
      "codemirror_mode": {
        "name": "python",
        "version": 3
      },
      "file_extension": ".py",
      "mimetype": "text/x-python",
      "name": "python",
      "nbconvert_exporter": "python",
      "pygments_lexer": "ipython3",
      "version": "3.8"
    }
  },
  "nbformat_minor": 4,
  "nbformat": 4,
  "cells": [
    {
      "cell_type": "markdown",
      "source": "# Data Science Tools and Ecosystem",
      "metadata": {}
    },
    {
      "cell_type": "markdown",
      "source": "## In this notebook, data science tools and ecosystem are summarized",
      "metadata": {}
    },
    {
      "cell_type": "markdown",
      "source": "### Some of the popular languages that data scientists use are:\n1. Python\n2. R\n3. SQL\n4. Julia\n5. JavaScript",
      "metadata": {}
    },
    {
      "cell_type": "markdown",
      "source": "### Some of the commonly used libraries used by data scientists include:\n1. NumPy\n2. SciPy\n3. PyTorch\n4. Plotly\n5. Pandas\n5. Matplotlib\n6. Ggplot\n7. TensorFlow",
      "metadata": {}
    },
    {
      "cell_type": "markdown",
      "source": "| Data Science Tools |\n| ------------------ |\n| RStudio |\n| Jupyter |\n| GitHub  |",
      "metadata": {}
    },
    {
      "cell_type": "markdown",
      "source": "### Below area a few examples of evaluating arithemietic expressions in Python",
      "metadata": {}
    },
    {
      "cell_type": "code",
      "source": "#### This is a simple arithmetic expression to multiply then add integers\n(3*4)+5",
      "metadata": {
        "trusted": true
      },
      "outputs": [
        {
          "execution_count": 6,
          "output_type": "execute_result",
          "data": {
            "text/plain": "17"
          },
          "metadata": {}
        }
      ],
      "execution_count": 6
    },
    {
      "cell_type": "code",
      "source": "#### This will convert 200 minutes to hours by diving by 60\nOutcome = (200/60)\nprint(Outcome)",
      "metadata": {
        "trusted": true
      },
      "outputs": [
        {
          "name": "stdout",
          "text": "3.3333333333333335\n",
          "output_type": "stream"
        }
      ],
      "execution_count": 10
    },
    {
      "cell_type": "markdown",
      "source": "**Objective:**\n- Download RStudio and install ggplot2 and plotly\n- Create a Jupyter notebook and upload to Github\n- Familiarize your self with common data science tools and their uses",
      "metadata": {}
    },
    {
      "cell_type": "markdown",
      "source": "## Author\nAshley Salen",
      "metadata": {}
    },
    {
      "cell_type": "code",
      "source": "",
      "metadata": {
        "trusted": true
      },
      "outputs": [],
      "execution_count": null
    }
  ]
}